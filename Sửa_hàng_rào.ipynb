{
  "nbformat": 4,
  "nbformat_minor": 0,
  "metadata": {
    "colab": {
      "name": "Sửa_hàng_rào.ipynb",
      "provenance": [],
      "collapsed_sections": [],
      "authorship_tag": "ABX9TyOP+dmVZlq/Yrn/HUDpMK+0",
      "include_colab_link": true
    },
    "kernelspec": {
      "name": "python3",
      "display_name": "Python 3"
    },
    "language_info": {
      "name": "python"
    }
  },
  "cells": [
    {
      "cell_type": "markdown",
      "metadata": {
        "id": "view-in-github",
        "colab_type": "text"
      },
      "source": [
        "<a href=\"https://colab.research.google.com/github/trong-khanh-1109/CS112.L21.KHCL/blob/main/S%E1%BB%ADa_h%C3%A0ng_r%C3%A0o.ipynb\" target=\"_parent\"><img src=\"https://colab.research.google.com/assets/colab-badge.svg\" alt=\"Open In Colab\"/></a>"
      ]
    },
    {
      "cell_type": "markdown",
      "metadata": {
        "id": "sK-8X0a9H0s9"
      },
      "source": [
        "#TÊN ĐỀ BÀI: SỬA HÀNG RÀO"
      ]
    },
    {
      "cell_type": "markdown",
      "metadata": {
        "id": "rQK9-VkpH1uV"
      },
      "source": [
        "#Abstraction"
      ]
    },
    {
      "cell_type": "markdown",
      "metadata": {
        "id": "EVIREYD0H7bT"
      },
      "source": [
        "* Tóm tắt bài toán:\n",
        "Từ **m** tấm gỗ thừa, tìm **h** (độ cao lớn nhất có thể có của hàng rào), $k$ tấm gỗ được đóng thêm, các tấm ván với độ cao $y$ thỏa điều kiện đóng trên $n$ các tấm gỗ được đóng sẵn (mỗi tấm gỗ trên hàng rào có độ cao $x$) \n",
        "* Từ tóm tắt trên ta có thể viết lại bài toán như sau:\n",
        "  - Tìm một số nguyên $h$ sao cho $a[i] + b[j] \\geq h$ với:\n",
        "    + $a$, $b$ lần lượt là 2 mảng chiều các tấm gỗ trên hàng rào và chiều cao của các tấm gỗ thừa.\n",
        "    + $h$ chiều cao lớn nhất nhận được.\n",
        "    + $i$, $j$ lần lượt là độ dài của mảng $a$ và $b$.\n",
        "  - Đối mới giá trị $h$ hãy lưu vị trí $(i, j)$ tìm được."
      ]
    },
    {
      "cell_type": "markdown",
      "metadata": {
        "id": "5SLFvf4vJdqg"
      },
      "source": [
        "#Pattern Recognition"
      ]
    },
    {
      "cell_type": "markdown",
      "metadata": {
        "id": "T4gYMjzUJxEH"
      },
      "source": [
        "- Kỹ thuật được áp dụng: **Divide and Conquer** (Tìm kiếm nhị phân)\n",
        "- Đặc điểm nhận dạng:\n",
        "  + Tìm chiều cao $h$ với điều kiện cho trước."
      ]
    },
    {
      "cell_type": "markdown",
      "metadata": {
        "id": "c69epJ6mKBZ-"
      },
      "source": [
        "#Algorithm designed"
      ]
    },
    {
      "cell_type": "markdown",
      "metadata": {
        "id": "R8qfH_pcKhwt"
      },
      "source": [
        "- Gán $left = 0$, $right = 2 * 10^8$\n",
        "- Chạy vòng lặp **while** $left - right >  1$:\n",
        "  + Kiểm tra điều kiện $h = (left + right) \\div 2$:\n",
        "    + Gán $j = 0$ (với j là vị trí của tấm gỗ thừa)\n",
        "    + Duyệt mảng $a[i]$ với $i = 1 \\rightarrow n$\n",
        "      + Trong khi $j < m$ và $a[i] + b[j] < h$ thì tăng $j$ lên 1\n",
        "      + Nếu $a[i] < h$ và $j = m$ thì trả về $False$\n",
        "      + Nếu $a[i] < h$:\n",
        "        + Lưu lại vị trí $(i, j)$\n",
        "        + Tăng $j$ lên 1\n",
        "    + Trả về $True$\n",
        "  + Nếu kiểm tra $h$ là $True$ thì lặp lại vòng **while**\n",
        "  + Ngược lại, nếu kiểm tra $h$ là $False$ thì kiểm tra $h$ với $h = left$ để duyệt lại giá trị $(i, j)$ đã lưu và in kết quả."
      ]
    },
    {
      "cell_type": "markdown",
      "metadata": {
        "id": "Nk6o-bCNN1T0"
      },
      "source": [
        "#Độ phức tạp của thuật toán"
      ]
    },
    {
      "cell_type": "markdown",
      "metadata": {
        "id": "It2FCV5HOdKG"
      },
      "source": [
        "- O(nlogk), với \n",
        "  + $n$ là độ dài của mảng a **(a là mảng chứa dộ cao của ván gỗ trên hàng rào)**\n",
        "  + $k = 2 * 10^8$"
      ]
    },
    {
      "cell_type": "markdown",
      "metadata": {
        "id": "RXY7WWKUPfkt"
      },
      "source": [
        "#Code"
      ]
    },
    {
      "cell_type": "code",
      "metadata": {
        "id": "OBob_BXCPhv7"
      },
      "source": [
        "#Code by Trinh Tuan Nam\n",
        "from sys import stdin\n",
        "n = int(input())\n",
        "a = list(map(int, stdin.readline().split()))\n",
        "m = int(input())\n",
        "b = list(map(int, stdin.readline().split()))\n",
        "left = min(a)\n",
        "if m < n:\n",
        "    right = max(a)   \n",
        "else:\n",
        "    right = max(a) + min(b)\n",
        "index = []\n",
        "temp = []\n",
        "h = right\n",
        "count = 0\n",
        "while left < right - 1:\n",
        "    count_temp = 0\n",
        "    i = 0\n",
        "    j = -1\n",
        "    while i < n:\n",
        "        if a[i] < h:\n",
        "            j += 1\n",
        "            while j < m:\n",
        "                if a[i] + b[j] >= h:\n",
        "                    count_temp += 1\n",
        "                    index.append([i + 1, j + 1])\n",
        "                    i += 1\n",
        "                    #print(\"Luong go dong: \", count_temp)\n",
        "                    break\n",
        "                else:\n",
        "                    j += 1\n",
        "            #print('j = ', j)\n",
        "            if j == m:\n",
        "                break\n",
        "        else:\n",
        "            i += 1\n",
        "    #print('i = ', i)\n",
        "    if i == n:\n",
        "        temp = index\n",
        "        count = count_temp\n",
        "        index = []\n",
        "        left = h\n",
        "    else:\n",
        "        index = []\n",
        "        right = h\n",
        "    h = (left + right) // 2\n",
        "print(left, count)\n",
        "for i in range(count):\n",
        "    print(*temp[i])"
      ],
      "execution_count": null,
      "outputs": []
    }
  ]
}