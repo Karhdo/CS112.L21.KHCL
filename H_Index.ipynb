{
  "nbformat": 4,
  "nbformat_minor": 0,
  "metadata": {
    "colab": {
      "name": "H_Index.ipynb",
      "provenance": [],
      "collapsed_sections": [],
      "authorship_tag": "ABX9TyNRMpHb5lqQDBI5R4MQAbqr",
      "include_colab_link": true
    },
    "kernelspec": {
      "name": "python3",
      "display_name": "Python 3"
    },
    "language_info": {
      "name": "python"
    }
  },
  "cells": [
    {
      "cell_type": "markdown",
      "metadata": {
        "id": "view-in-github",
        "colab_type": "text"
      },
      "source": [
        "<a href=\"https://colab.research.google.com/github/trong-khanh-1109/CS112.L21.KHCL/blob/main/H_Index.ipynb\" target=\"_parent\"><img src=\"https://colab.research.google.com/assets/colab-badge.svg\" alt=\"Open In Colab\"/></a>"
      ]
    },
    {
      "cell_type": "markdown",
      "metadata": {
        "id": "9jmT3MRIWDxL"
      },
      "source": [
        "# TÊN ĐỀ BÀI: H_Index"
      ]
    },
    {
      "cell_type": "markdown",
      "metadata": {
        "id": "8TiHvPFDWLXi"
      },
      "source": [
        "#Abstraction"
      ]
    },
    {
      "cell_type": "markdown",
      "metadata": {
        "id": "euzmZV4xWP1r"
      },
      "source": [
        "Cho một mảng A gồm n số nguyên dương [a1, a2,..,an], tìm số k lớn nhất có thể sao cho có ít nhất k số trong dãy số A có giá trị lớn hơn k"
      ]
    },
    {
      "cell_type": "markdown",
      "metadata": {
        "id": "ZDmBw_4KbbJX"
      },
      "source": [
        "#Pattern Recognition"
      ]
    },
    {
      "cell_type": "markdown",
      "metadata": {
        "id": "DNSQrYBGbl3i"
      },
      "source": [
        "- Kĩ thuật áp dụng: sắp xếp mảng, xử lý mảng\n",
        "- Đặc điểm nhận dạng: Tìm số k lớn nhất có thể trong mảng, sao cho có ít nhất k số trong dãy số A có giá trị lớn hơn k"
      ]
    },
    {
      "cell_type": "markdown",
      "metadata": {
        "id": "rWGwSGJxdC_j"
      },
      "source": [
        "#Algorithm designed"
      ]
    },
    {
      "cell_type": "markdown",
      "metadata": {
        "id": "dpGfMWD7dFwN"
      },
      "source": [
        "- Nhập n (1 ≤ n ≤ 5×10^5)\n",
        "- Nhập mảng A có n phần tử sao cho mỗi phần tử c[i] thoả điều kiện 0 ≤ c[i] ≤ 10^6, i = 1 ÷ n\n",
        "- Sắp xếp mảng theo giá trị tăng dần của các phần tử\n",
        "- Gán H_Index = n\n",
        "- Chạy vòng lặp từ 0 cho đến n:\n",
        "    - Nếu A[i] >= H_Index thì thoát khỏi vòng lặp\n",
        "    - Ngược lại thì H_Index = H_Index - 1\n",
        "- Xuất giá trị H_Index ra màn hình"
      ]
    },
    {
      "cell_type": "markdown",
      "metadata": {
        "id": "uBQNBJEzfES7"
      },
      "source": [
        "#Độ phức tạp thuật toán"
      ]
    },
    {
      "cell_type": "markdown",
      "metadata": {
        "id": "dXnOoz9XfU7-"
      },
      "source": [
        "- O(n) với n là số phần tử của mảng"
      ]
    },
    {
      "cell_type": "markdown",
      "metadata": {
        "id": "9EGS6ddcf0UG"
      },
      "source": [
        "#Code"
      ]
    },
    {
      "cell_type": "code",
      "metadata": {
        "id": "e9MVvt4efvTm"
      },
      "source": [
        "# Code by Trinh Tuan Nam\n",
        "from sys import stdin\n",
        "n = int(input())\n",
        "k = [int(x) for x in stdin.readline().split()]\n",
        "k.sort()\n",
        "H_index = n\n",
        "for i in range(n):\n",
        "    if k[i] >= H_index:\n",
        "        break\n",
        "    H_index -= 1\n",
        "print(H_index)"
      ],
      "execution_count": null,
      "outputs": []
    }
  ]
}