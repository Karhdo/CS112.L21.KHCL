{
  "nbformat": 4,
  "nbformat_minor": 0,
  "metadata": {
    "colab": {
      "name": "Knapsack.ipynb",
      "provenance": [],
      "collapsed_sections": [],
      "authorship_tag": "ABX9TyNG99VUnuHCGJK8PuvC5nWX",
      "include_colab_link": true
    },
    "kernelspec": {
      "name": "python3",
      "display_name": "Python 3"
    },
    "language_info": {
      "name": "python"
    }
  },
  "cells": [
    {
      "cell_type": "markdown",
      "metadata": {
        "id": "view-in-github",
        "colab_type": "text"
      },
      "source": [
        "<a href=\"https://colab.research.google.com/github/trong-khanh-1109/CS112.L21.KHCL/blob/main/Knapsack.ipynb\" target=\"_parent\"><img src=\"https://colab.research.google.com/assets/colab-badge.svg\" alt=\"Open In Colab\"/></a>"
      ]
    },
    {
      "cell_type": "markdown",
      "metadata": {
        "id": "BRKJDUMPi2lR"
      },
      "source": [
        "#Nhóm 7:"
      ]
    },
    {
      "cell_type": "markdown",
      "metadata": {
        "id": "sex-plWijfmd"
      },
      "source": [
        "- Đỗ Trọng Khánh - 19521676\n",
        "- Trịnh Tuấn Nam - 19521874\n",
        "- Nguyễn Dương Hải - 19521464"
      ]
    },
    {
      "cell_type": "markdown",
      "metadata": {
        "id": "z14hgUeRjJfq"
      },
      "source": [
        "# Code Knapsack Problem"
      ]
    },
    {
      "cell_type": "code",
      "metadata": {
        "id": "qjcv8dPFKZ8V"
      },
      "source": [
        "# Code by Trinh Tuan Nam\n",
        "n = int(input())\n",
        "value = [int(i) for i in input().split()]\n",
        "weight = [int(i) for i in input().split()]\n",
        "W = int(input())\n",
        "def knapSack(n, value, weight, W):\n",
        "    remaining_weight = W\n",
        "    bag_value = i = 0\n",
        "    count = 0\n",
        "    while (i<n):\n",
        "        if(weight[i] <= remaining_weight):\n",
        "            remaining_weight -= weight[i]\n",
        "            bag_value += value[i]\n",
        "            count += 1\n",
        "        i += 1\n",
        "    if sum(weight[1:count+1]) <= W and count < n:\n",
        "        bag_value = sum(value[1:count+1])\n",
        "    return bag_value\n",
        "print(knapSack(n,value,weight,W))"
      ],
      "execution_count": null,
      "outputs": []
    },
    {
      "cell_type": "markdown",
      "metadata": {
        "id": "XdOkWGa4jX7V"
      },
      "source": [
        "# Câu hỏi về Greedy Approach"
      ]
    },
    {
      "cell_type": "markdown",
      "metadata": {
        "id": "B8Z57xw8hv-G"
      },
      "source": [
        "* Trong silde bài giản có nói về nhược điểm của Greedy Approach là có thể đưa ra kết qủa bài toán không chính xác. Vậy làm thế nào để xác định là 1 bài toán có thể dùng phương pháp Greed Approach có cho ra kết quả chính xác hay không ?"
      ]
    }
  ]
}