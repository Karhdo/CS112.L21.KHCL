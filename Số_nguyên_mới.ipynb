{
  "nbformat": 4,
  "nbformat_minor": 0,
  "metadata": {
    "colab": {
      "name": "Số_nguyên_mới.ipynb",
      "provenance": [],
      "collapsed_sections": [],
      "authorship_tag": "ABX9TyNngGH7EEiND6LkxSgO1mR1",
      "include_colab_link": true
    },
    "kernelspec": {
      "name": "python3",
      "display_name": "Python 3"
    },
    "language_info": {
      "name": "python"
    }
  },
  "cells": [
    {
      "cell_type": "markdown",
      "metadata": {
        "id": "view-in-github",
        "colab_type": "text"
      },
      "source": [
        "<a href=\"https://colab.research.google.com/github/trong-khanh-1109/CS112.L21.KHCL/blob/main/S%E1%BB%91_nguy%C3%AAn_m%E1%BB%9Bi.ipynb\" target=\"_parent\"><img src=\"https://colab.research.google.com/assets/colab-badge.svg\" alt=\"Open In Colab\"/></a>"
      ]
    },
    {
      "cell_type": "markdown",
      "metadata": {
        "id": "a7_QwQJMYGlz"
      },
      "source": [
        "#TÊN ĐỀ BÀI: SỐ NGUYÊN MỚI"
      ]
    },
    {
      "cell_type": "markdown",
      "metadata": {
        "id": "lB8-rgnfYNl2"
      },
      "source": [
        "#Abstraction"
      ]
    },
    {
      "cell_type": "markdown",
      "metadata": {
        "id": "05FwDtjwYR4O"
      },
      "source": [
        "- Hãy xác định số nguyên lớn nhất m chia hết cho 3 và khác n ở đúng một chữ số, với n là 1 số nguyên dương không quá 100 chữ số."
      ]
    },
    {
      "cell_type": "markdown",
      "metadata": {
        "id": "VjdnQCVIY5wo"
      },
      "source": [
        "#Pattern Recognition"
      ]
    },
    {
      "cell_type": "markdown",
      "metadata": {
        "id": "DmuI-UU6Y6_8"
      },
      "source": [
        "- Kĩ thuật được áp dụng: Xử lí chuỗi, xử lí mảng.\n",
        "- Đặc điểm nhận dạng: Xác định số nguyên lớn nhất chỉ khác n đúng một chữ số và chia hết cho 3."
      ]
    },
    {
      "cell_type": "markdown",
      "metadata": {
        "id": "7GSZGKbUZbZa"
      },
      "source": [
        "#Algorithm designed"
      ]
    },
    {
      "cell_type": "markdown",
      "metadata": {
        "id": "1iMEFzHUZdJZ"
      },
      "source": [
        "- Nhập n(string) bất kì từ bàn phím.\n",
        "- Khỏi tạo 1 **list** chứa các kí tự của chuỗi n.\n",
        "- Gán mod = n(int) % 3\n",
        "- Tạo hàm **surplus**(mod) để lưu các mảng số dư ứng với từng mod:\n",
        "      - Nếu mod = 0 thì trả về mảng có giá trị [9, 6, 3]\n",
        "      - Nếu 3-mod = 1 thì trả về mảng có giá trị [7, 4, 1]\n",
        "      - Nếu 3-mod = 2 thì trả về mảng có giá trị [8, 5, 2]\n",
        "- Gán check = 0, change  = 0\n",
        "- Chạy vòng lặp i từ 0 -> len(n_list):\n",
        "    - Cập nhập lại kiểu dữ liệu list[i] = int(list[i])\n",
        "    - Chạy vòng lặp j, với j là các phần từ trong mảng **surplus(mod)**\n",
        "      - Nếu list[i] + j <= 9 thì:\n",
        "            - Cập nhập lại list[i] = list[i] + j, change = 1, check = 1\n",
        "            - Sau khi cập nhập các biến thì thoát khỏi vòng lặp\n",
        "    - Nếu **check == 1** thì thoát khỏi vòng lặp for lớn\n",
        "\n",
        "**Kiểm tra các trường hợp đặc biệt nếu không có số nào được thay đổi và xuất kết qủa**\n",
        "- Nếu **change == 0** thì:\n",
        "    - Nếu **mod == 0** thì:\n",
        "          - Cập nhập là phần tử cuối trong list: list[-1] = list[-1] - 3\n",
        "    - Ngược lại thì:\n",
        "          - Cập nhập là phần tử cuối trong list: list[-1] = list[-1] - mod\n",
        "\n",
        "- Đưa các phần từ của **list** về kiểu string sau đó xuất **list** ra màng hình\n",
        "\n",
        "\n"
      ]
    },
    {
      "cell_type": "markdown",
      "metadata": {
        "id": "Ls-4jhYHf5wl"
      },
      "source": [
        "#Độ phức tạp thuật toán"
      ]
    },
    {
      "cell_type": "markdown",
      "metadata": {
        "id": "TsS3YJbef9xZ"
      },
      "source": [
        "- O(n*m)\n",
        "\n",
        "- Với n là độ dài của mảng **surplus** và m là độ dài của số nhập vào"
      ]
    },
    {
      "cell_type": "markdown",
      "metadata": {
        "id": "mPj2JnOAZgDX"
      },
      "source": [
        "#Code"
      ]
    },
    {
      "cell_type": "code",
      "metadata": {
        "id": "1jL9hYgXZjwT"
      },
      "source": [
        "#Code by Do Trong Khanh\n",
        "n = input()\n",
        "n_list = list(n)\n",
        "mod = int(n) % 3\n",
        "\n",
        "def surplus(mod):\n",
        "\tif mod == 0:\n",
        "\t\treturn [9, 6, 3]\n",
        "\telif 3-mod == 1:\n",
        "\t\treturn [7, 4, 1]\n",
        "\telse:\n",
        "\t\treturn [8, 5, 2]\n",
        "\n",
        "change = 0\n",
        "check = 0\n",
        "\n",
        "for i in range(len(n_list)):\n",
        "\tn_list[i] = int(n_list[i])\n",
        "\tfor j in surplus(mod):\n",
        "\t\tif n_list[i] + j <= 9:\n",
        "\t\t\tn_list[i] += j\n",
        "\t\t\tcheck = 1\n",
        "\t\t\tchange = 1\n",
        "\t\t\tbreak\n",
        "\tif check == 1:\n",
        "\t\tbreak\n",
        "\n",
        "if change == 0:\n",
        "\tif mod == 0:\n",
        "\t\tn_list[-1] = int(n_list[-1]) - 3\n",
        "\telse:\n",
        "\t\tn_list[-1] = int(n_list[-1]) - mod\n",
        "\n",
        "m = [str(x) for x in n_list] \n",
        "print(''.join(m))"
      ],
      "execution_count": null,
      "outputs": []
    }
  ]
}