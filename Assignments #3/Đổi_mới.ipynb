{
  "nbformat": 4,
  "nbformat_minor": 0,
  "metadata": {
    "colab": {
      "name": "Đổi_mới.ipynb",
      "provenance": [],
      "collapsed_sections": [],
      "authorship_tag": "ABX9TyNSwpR85c073CvtV5ZRCmbR",
      "include_colab_link": true
    },
    "kernelspec": {
      "name": "python3",
      "display_name": "Python 3"
    },
    "language_info": {
      "name": "python"
    }
  },
  "cells": [
    {
      "cell_type": "markdown",
      "metadata": {
        "id": "view-in-github",
        "colab_type": "text"
      },
      "source": [
        "<a href=\"https://colab.research.google.com/github/trong-khanh-1109/CS112.L21.KHCL/blob/main/%C4%90%E1%BB%95i_m%E1%BB%9Bi.ipynb\" target=\"_parent\"><img src=\"https://colab.research.google.com/assets/colab-badge.svg\" alt=\"Open In Colab\"/></a>"
      ]
    },
    {
      "cell_type": "markdown",
      "metadata": {
        "id": "4o9K-s60loar"
      },
      "source": [
        "#TÊN ĐỀ BÀI: ĐỔI MỚI"
      ]
    },
    {
      "cell_type": "markdown",
      "metadata": {
        "id": "b3eP0L_Tl1F6"
      },
      "source": [
        "#Abstraction"
      ]
    },
    {
      "cell_type": "markdown",
      "metadata": {
        "id": "sKrGOve3l6T4"
      },
      "source": [
        "- Phân tích bài toán:\n",
        "      Gọi x là số ngày chặt hạ hết n cây xanh.\n",
        "      Ta có:\n",
        "        - Số ngày nghỉ của đội I là: x/k\n",
        "          Số ngày làm việc của đội I: x - x/k\n",
        "          Số cây đội I chặt hạ: a*(x - x/k)\n",
        "        - Số ngày nghỉ của đội II là: x/m\n",
        "          Số ngày làm việc của đội II: x - x/m\n",
        "          Số cây đội II chặt hạ: b*(x - x/m)\n",
        "      \n",
        "      ==> Tổng số cây đội I và II chặt hạ: a*(x - x/k) + b*(x - x/m)\n",
        "- Theo việc phân tích ở trên ta có thể viết lại Abstraction như sau:\n",
        "      Tìm x nhỏ nhất sao cho F(x) = a*(x - x/k) + b*(x - x/m) >= n, với  1 ≤ a, b ≤ 10^9, 2 ≤ k, m ≤ 10^18, 1 ≤ n ≤ 10^18\n",
        "      "
      ]
    },
    {
      "cell_type": "markdown",
      "metadata": {
        "id": "XygYziY1pRn5"
      },
      "source": [
        "#Pattern Recognition"
      ]
    },
    {
      "cell_type": "markdown",
      "metadata": {
        "id": "yt_BwUvqptJE"
      },
      "source": [
        "- Kĩ thuật được áp dụng: Divide and Conquer\n",
        "- Đặc điểm nhận dạng: Tìm x nhỏ nhất sao cho thoả biểu thức F(x)"
      ]
    },
    {
      "cell_type": "markdown",
      "metadata": {
        "id": "5QoYjYksp9M2"
      },
      "source": [
        "#Algorithm designed"
      ]
    },
    {
      "cell_type": "markdown",
      "metadata": {
        "id": "PbtsqDueqAbB"
      },
      "source": [
        "- Nhập a, k, b, m, n thoả yêu cầu đề bài\n",
        "- Hàm kiểm tra số lượng cây **Check_Tree(x)**\n",
        "      Nếu F(x) >= n thì trả về True\n",
        "      Ngược lại trả về False\n",
        "- Gán left = 1 (tượng trưng cho số ngày ít nhất)\n",
        "- Gán right = n (tương trưng cho số ngày nhiều nhất)\n",
        "- Gán ans = 0 (để lưu kết quả yêu cầu đề bài)\n",
        "- Chạy vòng lặp While với điều kiện left <= right\n",
        "      Gán mid = (left + right)//2\n",
        "      Nếu Check_Tree(mid) == True:\n",
        "          - Gán ans = mid\n",
        "          - Cập nhập lại biến right = mid - 1\n",
        "      Ngược lại:\n",
        "          - Cập nhập lại biến left = mid + 1\n",
        "\n"
      ]
    },
    {
      "cell_type": "markdown",
      "metadata": {
        "id": "lJ-5rInQsnQ7"
      },
      "source": [
        "#Độ phức tạp thuật toán"
      ]
    },
    {
      "cell_type": "markdown",
      "metadata": {
        "id": "-bGNZbMOsq1G"
      },
      "source": [
        "O(log(n)) với n là số lượng cây cần chặt hạ"
      ]
    },
    {
      "cell_type": "markdown",
      "metadata": {
        "id": "JnYIrZpCuRTd"
      },
      "source": [
        "#Code"
      ]
    },
    {
      "cell_type": "code",
      "metadata": {
        "id": "P_C1euqgqHcf"
      },
      "source": [
        "#Code by Do Trong Khanh\n",
        "a, k, b, m, n = [int(i) for i in input().split()]\n",
        "\n",
        "def Check_Tree(x):\n",
        "\ttree = (x - x//k)*a + (x - x//m)*b\n",
        "\tif tree >= n:\n",
        "\t\treturn True\n",
        "\telse:\n",
        "\t\treturn False\n",
        "\n",
        "left = 1\n",
        "right = n\n",
        "ans = 0\n",
        "\n",
        "while left <= right:\n",
        "\tmid  = (left + right)//2\n",
        "\tif Check_Tree(mid) == True:\n",
        "\t\tans = mid\n",
        "\t\tright = mid -1\n",
        "\telse:\n",
        "\t\tleft = mid + 1\n",
        "\n",
        "print(ans)"
      ],
      "execution_count": null,
      "outputs": []
    }
  ]
}
