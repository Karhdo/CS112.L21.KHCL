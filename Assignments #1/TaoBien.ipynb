{
  "nbformat": 4,
  "nbformat_minor": 0,
  "metadata": {
    "colab": {
      "name": "TaoBien.ipynb",
      "provenance": [],
      "collapsed_sections": [],
      "include_colab_link": true
    },
    "kernelspec": {
      "name": "python3",
      "display_name": "Python 3"
    },
    "language_info": {
      "name": "python"
    }
  },
  "cells": [
    {
      "cell_type": "markdown",
      "metadata": {
        "id": "view-in-github",
        "colab_type": "text"
      },
      "source": [
        "<a href=\"https://colab.research.google.com/github/trong-khanh-1109/CS112.L22.KHCL/blob/main/TaoBien.ipynb\" target=\"_parent\"><img src=\"https://colab.research.google.com/assets/colab-badge.svg\" alt=\"Open In Colab\"/></a>"
      ]
    },
    {
      "cell_type": "markdown",
      "metadata": {
        "id": "Hu99n3z_t5xD"
      },
      "source": [
        "# TÊN ĐỀ BÀI: TẢO BIỂN"
      ]
    },
    {
      "cell_type": "markdown",
      "metadata": {
        "id": "HjD72C-VfoWs"
      },
      "source": [
        "# Abstraction"
      ]
    },
    {
      "cell_type": "markdown",
      "metadata": {
        "id": "Mzxl7McRgGum"
      },
      "source": [
        "Nhập n và k, Tính S = n * F(2k + 1), biết \n",
        "\n",
        "* F(n) = 1,với n = 1\n",
        "                                          \n",
        "* F(n) = 0,với n = 0\n",
        "                                          \n",
        "* F(n) = F(n-2) + F(n-1), với n > 1"
      ]
    },
    {
      "cell_type": "markdown",
      "metadata": {
        "id": "fiieq8pTg0s9"
      },
      "source": [
        "# Pattern Recognition"
      ]
    },
    {
      "cell_type": "markdown",
      "metadata": {
        "id": "jObvG0ocg7L2"
      },
      "source": [
        "* Kỹ thuật được áp dụng: Xử lí mảng\n",
        "* Các đặc điểm nhận dạng:\n",
        "  - Từ đề bài ta có thể thấy được các cá thể tảo biển sinh sản riêng biệt không liên qua gì đến nhau. Vì vậy ta xét trường hợp đơn giản nhất là n = 1 (số tảo biển ban đầu) và k = 4 (số ngày phát triển của tảo biển). Ta có số liệu sau:\n",
        "\n",
        "          Số lượng cá thể sau này 0: 1 ứng với số Fibonacci thứ 1\n",
        "        \n",
        "          Số lượng cá thể sau này 1: 2 ứng với số Fibonacci thứ 3\n",
        "\n",
        "          Số lượng cá thể sau này 2: 5 ứng với số Fibonacci thứ 5\n",
        "\n",
        "          Số lượng cá thể sau này 3: 13 ứng với số Fibonacci thứ 7\n",
        "\n",
        "          Số lượng cá thể sau này 4: 34 ứng với số Fibonacci thứ 9\n",
        "\n",
        "  - Như bảng trên ta có thể thấy rằng số lượng cá thể của tảo biển tăng theo phần tử lẻ của dãy số Fibonacci. Do đó ta có thể tính được 1 cá thể sinh sản trong k ngày là F(2*k +1)\n",
        "  - Tổng quát hơn với n phần tử sinh ra trong k ngày là: n * F(2*k +1)\n",
        "\n",
        "    "
      ]
    },
    {
      "cell_type": "markdown",
      "metadata": {
        "id": "F7CbPOsusUWl"
      },
      "source": [
        "# Algorithm designed"
      ]
    },
    {
      "cell_type": "markdown",
      "metadata": {
        "id": "E22hOza_tAHq"
      },
      "source": [
        "Hàm tính số Fibonacci\n",
        "* Tạo 1 mảng A chứa toàn phần tử 0 từ A[0] đến A[n+1]\n",
        "* Gán A[1] = 1\n",
        "* Vòng lặp i chạy từ 2 -> n+1\n",
        "      Gán A[i] = A[i-2] + A[i-1]\n",
        "* Kết thúc vòng lặp trả giá trị A[n] về Hàm tính số Fibonacci\n",
        "\n",
        "Hàm main:\n",
        "* Nhập 2 số n, k bất kì thoả điều kiện (1 ≤ n ≤ 1000, 1 ≤ k ≤ 10^17)\n",
        "* Tính S = n * F(2*k+1) với F là Hàm tính số Fibonacci\n",
        "* Xuất kết quả S ra màn hình"
      ]
    },
    {
      "cell_type": "markdown",
      "metadata": {
        "id": "HJWZSfuQj1aV"
      },
      "source": [
        "# Độ phức tạp"
      ]
    },
    {
      "cell_type": "markdown",
      "metadata": {
        "id": "NlTOd32emJuQ"
      },
      "source": [
        "O(n) với n = k (với k là số ngày sinh sản của của tảo biển) "
      ]
    },
    {
      "cell_type": "markdown",
      "metadata": {
        "id": "Ti5yMj3WwQpl"
      },
      "source": [
        "# Code"
      ]
    },
    {
      "cell_type": "code",
      "metadata": {
        "id": "_K5BQILGwF6b"
      },
      "source": [
        "# Code by Do Trong Khanh\n",
        "mod = (10**9 + 7)\n",
        "def fibonacci (n):\n",
        "\tarr = [0]*(n+1)\n",
        "\tarr[1] = 1\n",
        "\tfor i in range (2,n+1): \n",
        "\t\tarr[i] = ((arr[i-1] % mod) + (arr[i-2] % mod)) % mod\n",
        "\treturn arr[n]\n",
        "\n",
        "n ,k = map(int, input().split())\n",
        "print((n * fibonacci(2*k + 1)) % mod)"
      ],
      "execution_count": null,
      "outputs": []
    }
  ]
}
