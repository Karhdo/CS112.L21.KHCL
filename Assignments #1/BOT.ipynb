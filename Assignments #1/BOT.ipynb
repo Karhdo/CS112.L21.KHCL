{
  "nbformat": 4,
  "nbformat_minor": 0,
  "metadata": {
    "colab": {
      "name": "BOT.ipynb",
      "provenance": [],
      "collapsed_sections": [],
      "include_colab_link": true
    },
    "kernelspec": {
      "name": "python3",
      "display_name": "Python 3"
    },
    "language_info": {
      "name": "python"
    }
  },
  "cells": [
    {
      "cell_type": "markdown",
      "metadata": {
        "id": "view-in-github",
        "colab_type": "text"
      },
      "source": [
        "<a href=\"https://colab.research.google.com/github/trong-khanh-1109/CS112.L22.KHCL/blob/main/BOT.ipynb\" target=\"_parent\"><img src=\"https://colab.research.google.com/assets/colab-badge.svg\" alt=\"Open In Colab\"/></a>"
      ]
    },
    {
      "cell_type": "markdown",
      "metadata": {
        "id": "2_U5Renbqv2S"
      },
      "source": [
        "# TÊN BÀI TOÁN: TẠM THU PHÍ (BOT - Built-Operation-Transfer)"
      ]
    },
    {
      "cell_type": "markdown",
      "metadata": {
        "id": "9MS2dJpOpiCA"
      },
      "source": [
        "# Abstraction"
      ]
    },
    {
      "cell_type": "markdown",
      "metadata": {
        "id": "TdWeRlzqppsK"
      },
      "source": [
        "Nhập mảng Array có n phần tử, tìm vị trí mảng con có tổng lớn nhất và tổng của mảng con đó."
      ]
    },
    {
      "cell_type": "markdown",
      "metadata": {
        "id": "3p0SaGj4p_0k"
      },
      "source": [
        "# Pattern Recognition"
      ]
    },
    {
      "cell_type": "markdown",
      "metadata": {
        "id": "DB6d4RABqj-2"
      },
      "source": [
        "* Kĩ thuật áp dụng: Brute force\n",
        "\n",
        "* Đặc điểm nhận dạng: Đề cho một mảng A gòm n phần tử. Yêu cầu tìm vị trí một mảng liên tiếp có tổng các phần tử trong mảng đó lớn nhất. "
      ]
    },
    {
      "cell_type": "markdown",
      "metadata": {
        "id": "wjksdtf9rePb"
      },
      "source": [
        "# Algorithm designed"
      ]
    },
    {
      "cell_type": "markdown",
      "metadata": {
        "id": "eaDaqVqzrjRx"
      },
      "source": [
        "\n",
        "Hàm tính tổng của mảng con có tổng lớn nhất\n",
        "*   Khởi tạo 2 biến max_sum = sum_arr = A[0] (max_sum: tổng các phần tử liên tiếp lớn nhất, sum_arr: tổng các phần tử liên tiếp)\n",
        "*   Cho x chạy từ A[1] đến A[-1]\n",
        "*   Sau mỗi lần lặp\n",
        "\n",
        "      sum_arr = max(sum_arr + x , x)\n",
        "\n",
        "      max_sum = max(sum_arr, max_sum)\n",
        "\n",
        "\n",
        "Hàm tìm vị trí đầu cuối của mảng con có tổng lớn nhất\n",
        "*  Tạo 4 biến index_2 = 1 (lưu vị trí cuối cùng của mảng) và count = 0 (đếm số phần tử của mảng con) và max_sum = sum_arr = A[0]\n",
        "*   Cho x chạy từ A[1] đến A[-1]\n",
        "*   Sau mỗi lần lặp\n",
        "      nếu max_sum = Tổng của mảng con có tổng lớn nhất thì dừng vòng lặp\n",
        "\n",
        "      ngược lại thì index_2 += 1\n",
        "        nếu x > sum_arr + x thì count = 0\n",
        "        ngược lại count += 1 và sum_arr = max(sum_arr + x , x)\n",
        "        max_sum = max(sum_arr, max_sum)\n",
        "*   Nếu index_2 - count = 1 thì cho biến mới index_1 = 1 \n",
        "*   Ngược lại  index_1 = index_2 - count + 1\n",
        "*   Xuất index_1 và index_2 và tổng S \n",
        "\n",
        "\n"
      ]
    },
    {
      "cell_type": "markdown",
      "metadata": {
        "id": "hFE4DcTUwpos"
      },
      "source": [
        "# Độ phức tạp thuật toán"
      ]
    },
    {
      "cell_type": "markdown",
      "metadata": {
        "id": "i0fzQbkewvp3"
      },
      "source": [
        "O(n) với n là số phần tử của mảng nhập vào"
      ]
    },
    {
      "cell_type": "markdown",
      "metadata": {
        "id": "XZE2pKRrw3Mc"
      },
      "source": [
        ""
      ]
    },
    {
      "cell_type": "markdown",
      "metadata": {
        "id": "uveSb9etwz3R"
      },
      "source": [
        "# Code"
      ]
    },
    {
      "cell_type": "code",
      "metadata": {
        "id": "Enl2qfZGxFWT"
      },
      "source": [
        "# Code by Do Trong Khanh\n",
        "def max_sum_child_arr(A):\n",
        "\tmax_sum = sum_arr = A[0]\n",
        "\tfor x in A[1: ]:\n",
        "\t\tsum_arr = max(x, sum_arr + x)\n",
        "\t\tmax_sum = max(max_sum, sum_arr)\n",
        "\treturn max_sum\n",
        "\n",
        "n = int(input())\n",
        "A = list(map(int, input().strip().split()))[:n]\n",
        "S =max_sum_child_arr(A)\n",
        "\n",
        "index_2 = 1\n",
        "count = 0\n",
        "max_sum = sum_arr = A[0]\n",
        "for x in A[1: ]:\n",
        "\tif max_sum == S:\n",
        "\t\tbreak\n",
        "\telse:\n",
        "\t\tindex_2 += 1\n",
        "\t\tif(x > sum_arr + x):\n",
        "\t\t\tcount = 0\n",
        "\t\tcount += 1\n",
        "\t\tsum_arr = max(x, sum_arr + x)\n",
        "\t\tmax_sum = max(max_sum, sum_arr)\n",
        "if index_2 - count == 1:\n",
        "\tprint('1', end =' ')\n",
        "else:\n",
        "\tprint(index_2 - count + 1, end = ' ')\n",
        "print(index_2, end = ' ')\n",
        "print(S)"
      ],
      "execution_count": null,
      "outputs": []
    }
  ]
}
