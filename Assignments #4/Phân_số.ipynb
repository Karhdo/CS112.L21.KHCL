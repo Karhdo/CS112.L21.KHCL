{
  "nbformat": 4,
  "nbformat_minor": 0,
  "metadata": {
    "colab": {
      "name": "Phân_số.ipynb",
      "provenance": [],
      "collapsed_sections": [],
      "authorship_tag": "ABX9TyN5l5VXa6dvr224Efi1J+nN",
      "include_colab_link": true
    },
    "kernelspec": {
      "name": "python3",
      "display_name": "Python 3"
    },
    "language_info": {
      "name": "python"
    }
  },
  "cells": [
    {
      "cell_type": "markdown",
      "metadata": {
        "id": "view-in-github",
        "colab_type": "text"
      },
      "source": [
        "<a href=\"https://colab.research.google.com/github/trong-khanh-1109/CS112.L21.KHCL/blob/main/Ph%C3%A2n_s%E1%BB%91.ipynb\" target=\"_parent\"><img src=\"https://colab.research.google.com/assets/colab-badge.svg\" alt=\"Open In Colab\"/></a>"
      ]
    },
    {
      "cell_type": "markdown",
      "metadata": {
        "id": "QU0ci0r6468D"
      },
      "source": [
        "#TÊN ĐỀ BÀI: PHÂN SỐ"
      ]
    },
    {
      "cell_type": "markdown",
      "metadata": {
        "id": "Y24dLBxR5Bf8"
      },
      "source": [
        "#Abstraction"
      ]
    },
    {
      "cell_type": "markdown",
      "metadata": {
        "id": "6E1lp7wK5E6o"
      },
      "source": [
        "- Tìm số bước biến đổi của phân số  $\\frac{a}{b}$ sao cho $ \\frac{a}{b} = \\frac{c}{d} $. Nếu không tìm thấy thì in ra **0**\n"
      ]
    },
    {
      "cell_type": "markdown",
      "metadata": {
        "id": "APg8g0S6__OK"
      },
      "source": [
        "#Pattern Recognition"
      ]
    },
    {
      "cell_type": "markdown",
      "metadata": {
        "id": "u7EjpmbbACTl"
      },
      "source": [
        "- Kĩ thuật được áp dụng: Duyệt\n",
        "- Đặc điểm nhận dạng: Mỗi phép biến đổi là tăng a và b lên 1, sau đó giản ước phân số nhận được."
      ]
    },
    {
      "cell_type": "markdown",
      "metadata": {
        "id": "Z-IKr1tVBPjb"
      },
      "source": [
        "#Algorithm designed"
      ]
    },
    {
      "cell_type": "markdown",
      "metadata": {
        "id": "UX19xIFKBQlI"
      },
      "source": [
        "* **step = 0** (Với **step** là số bước biến đổi)\n",
        "* Thực hiện vòng lặp While **`(a*d) < (b*c)`**:\n",
        "  + Biến đổi phân số : \n",
        "     + Tìm ước chung lớn nhất: **` k = gdc(a+1, b+1)`** (với gdc() được lấy trong thư viện math của python)\n",
        "     + Biến đổi tử: **`a = (a + 1) // k`**\n",
        "     + Biến đổi mẫu: **` b = (b + 1) // k`**\n",
        "  + Tăng **`step = step + 1`**\n",
        "  + Nếu **`(a*d) == (b*c)`**:\n",
        "    + Output: Xuất kết quả **step**\n",
        "    + Thoát chương trình\n",
        "* Output: Xuất **0**"
      ]
    },
    {
      "cell_type": "markdown",
      "metadata": {
        "id": "g5jYHKWcBR6_"
      },
      "source": [
        "#Độ phức tạp thuật toán"
      ]
    },
    {
      "cell_type": "markdown",
      "metadata": {
        "id": "1QOZBh92B10K"
      },
      "source": [
        "- O(2 * **max**(b, d))"
      ]
    },
    {
      "cell_type": "markdown",
      "metadata": {
        "id": "0s0rBRn8FlGv"
      },
      "source": [
        "#Code"
      ]
    },
    {
      "cell_type": "code",
      "metadata": {
        "id": "-CmH0b5JFbFU"
      },
      "source": [
        "#Code by Do Trong Khanh\n",
        "from math import gcd\n",
        "a = int(input())\n",
        "b = int(input())\n",
        "c = int(input())\n",
        "d = int(input())\n",
        "step = 0\n",
        "\n",
        "while(a*d <= b*c):\n",
        "    k = gcd(a+1, b+1)\n",
        "    a = (a+1) // k\n",
        "    b = (b+1) // k\n",
        "    step += 1\n",
        "    if(a == c and b == d):\n",
        "        break\n",
        "\n",
        "if a*d > b*c:\n",
        "    step = 0\n",
        "\n",
        "print(step)"
      ],
      "execution_count": null,
      "outputs": []
    }
  ]
}
