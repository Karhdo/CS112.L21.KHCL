{
  "nbformat": 4,
  "nbformat_minor": 0,
  "metadata": {
    "colab": {
      "name": "Sửa_hàng_rào.ipynb",
      "provenance": [],
      "collapsed_sections": [],
      "authorship_tag": "ABX9TyN3sZAf6UCdbMffHO0dqdk7",
      "include_colab_link": true
    },
    "kernelspec": {
      "name": "python3",
      "display_name": "Python 3"
    },
    "language_info": {
      "name": "python"
    }
  },
  "cells": [
    {
      "cell_type": "markdown",
      "metadata": {
        "id": "view-in-github",
        "colab_type": "text"
      },
      "source": [
        "<a href=\"https://colab.research.google.com/github/trong-khanh-1109/CS112.L21.KHCL/blob/main/S%E1%BB%ADa_h%C3%A0ng_r%C3%A0o.ipynb\" target=\"_parent\"><img src=\"https://colab.research.google.com/assets/colab-badge.svg\" alt=\"Open In Colab\"/></a>"
      ]
    },
    {
      "cell_type": "markdown",
      "metadata": {
        "id": "sK-8X0a9H0s9"
      },
      "source": [
        "#TÊN ĐỀ BÀI: SỬA HÀNG RÀO"
      ]
    },
    {
      "cell_type": "markdown",
      "metadata": {
        "id": "rQK9-VkpH1uV"
      },
      "source": [
        "#Abstraction"
      ]
    },
    {
      "cell_type": "markdown",
      "metadata": {
        "id": "EVIREYD0H7bT"
      },
      "source": [
        "* Tóm tắt bài toán:\n",
        "Từ **m** tấm gỗ thừa, tìm **h** (độ cao lớn nhất có thể có của hàng rào), $k$ tấm gỗ được đóng thêm, các tấm ván với độ cao $y$ thỏa điều kiện đóng trên $n$ các tấm gỗ được đóng sẵn (mỗi tấm gỗ trên hàng rào có độ cao $x$) \n",
        "* Từ tóm tắt trên ta có thể viết lại bài toán như sau:\n",
        "  - Tìm một số nguyên $h$ sao cho $a[i] + b[j] \\geq h$ với:\n",
        "    + $a$, $b$ lần lượt là 2 mảng chiều các tấm gỗ trên hàng rào và chiều cao của các tấm gỗ thừa.\n",
        "    + $h$ chiều cao lớn nhất nhận được.\n",
        "    + $i$, $j$ lần lượt là độ dài của mảng $a$ và $b$.\n",
        "  - Đối mới giá trị $h$ hãy lưu vị trí $(i, j)$ tìm được."
      ]
    },
    {
      "cell_type": "markdown",
      "metadata": {
        "id": "5SLFvf4vJdqg"
      },
      "source": [
        "#Pattern Recognition"
      ]
    },
    {
      "cell_type": "markdown",
      "metadata": {
        "id": "T4gYMjzUJxEH"
      },
      "source": [
        "- Kỹ thuật được áp dụng: **Divide and Conquer** (Tìm kiếm nhị phân)\n",
        "- Đặc điểm nhận dạng:\n",
        "  + Tìm chiều cao $h$ với điều kiện cho trước."
      ]
    },
    {
      "cell_type": "markdown",
      "metadata": {
        "id": "c69epJ6mKBZ-"
      },
      "source": [
        "#Algorithm designed"
      ]
    },
    {
      "cell_type": "markdown",
      "metadata": {
        "id": "R8qfH_pcKhwt"
      },
      "source": [
        "- Gán $left = 0$, $right = 2 * 10^8$\n",
        "- Chạy vòng lặp **while** $left - right >  1$:\n",
        "  + Kiểm tra điều kiện $h = (left + right) \\div 2$:\n",
        "    + Gán $j = 0$ (với j là vị trí của tấm gỗ thừa)\n",
        "    + Duyệt mảng $a[i]$ với $i = 1 \\rightarrow n$\n",
        "      + Trong khi $j < m$ và $a[i] + b[j] < h$ thì tăng $j$ lên 1\n",
        "      + Nếu $a[i] < h$ và $j = m$ thì trả về $False$\n",
        "      + Nếu $a[i] < h$:\n",
        "        + Lưu lại vị trí $(i, j)$\n",
        "        + Tăng $j$ lên 1\n",
        "    + Trả về $True$\n",
        "  + Nếu kiểm tra $h$ là $True$ thì lặp lại vòng **while**\n",
        "  + Ngược lại, nếu kiểm tra $h$ là $False$ thì kiểm tra $h$ với $h = left$ để duyệt lại giá trị $(i, j)$ đã lưu và in kết quả."
      ]
    },
    {
      "cell_type": "markdown",
      "metadata": {
        "id": "Nk6o-bCNN1T0"
      },
      "source": [
        "#Độ phức tạp của thuật toán"
      ]
    },
    {
      "cell_type": "markdown",
      "metadata": {
        "id": "It2FCV5HOdKG"
      },
      "source": [
        "- O(nlogk), với \n",
        "  + $n$ là độ dài của mảng a **(a là mảng chứa dộ cao của ván gỗ trên hàng rào)**\n",
        "  + $k = 2 * 10^8$"
      ]
    },
    {
      "cell_type": "markdown",
      "metadata": {
        "id": "RXY7WWKUPfkt"
      },
      "source": [
        "#Code"
      ]
    },
    {
      "cell_type": "code",
      "metadata": {
        "id": "OBob_BXCPhv7"
      },
      "source": [
        "#Code by Trinh Tuan Nam\n",
        "from sys import stdin, stdout\n",
        "def Check(n, m, a, b, h):#Kiểm tra chiều cao miếng gỗ tìm được là h thì hàng rào a có thể thay đổi cao hơn h được không\n",
        "    lt_a = [i for i in a if i < h]\n",
        "    l = len(lt_a)\n",
        "    if l == 0:\n",
        "        return 1\n",
        "    i = 0\n",
        "    for j in b:\n",
        "        if lt_a[i] + j >= h:\n",
        "            i += 1\n",
        "        if i == l:#len(lt_a):\n",
        "            return 1\n",
        "    return 0\n",
        "def Print_res(n,m,a,b,h):# Duyệt tương tự để trả về kết quả với h là chiều cao tối ưu\n",
        "    lt_a = [i for i in range(n) if a[i] < h]\n",
        "    i = 0\n",
        "    best_equal = ''\n",
        "    l = len(lt_a)\n",
        "    print(h, l)#len(lt_a)\n",
        "    if l == 0:\n",
        "        return \n",
        "    for j in range(m):\n",
        "        if a[lt_a[i]] + b[j] >= h:\n",
        "            best_equal += str(lt_a[i]+1) +' '+ str(j+1) + '\\n'\n",
        "            i+=1\n",
        "        if i == l:\n",
        "            print(best_equal, end = ' ')\n",
        "            return \n",
        "n = int(input())\n",
        "a = [int(i) for i in input().split()]\n",
        "m = int(input())\n",
        "b = [int(i) for i in stdin.readline().split()]\n",
        "left, right = 1, 2*10**8\n",
        "while left < right:\n",
        "    pivot = (left+right)//2     # chia nhị phân tìm h\n",
        "    if Check(n,m,a,b,pivot):    # kiểm tra độ cao h\n",
        "        left = pivot + 1        \n",
        "    else:\n",
        "        right = pivot\n",
        "h = left - 1\n",
        "Print_res(n,m,a,b,h)"
      ],
      "execution_count": null,
      "outputs": []
    }
  ]
}
