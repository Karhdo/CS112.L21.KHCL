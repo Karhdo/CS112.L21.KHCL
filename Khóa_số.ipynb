{
  "nbformat": 4,
  "nbformat_minor": 0,
  "metadata": {
    "colab": {
      "name": "Khóa số.ipynb",
      "provenance": [],
      "collapsed_sections": [],
      "authorship_tag": "ABX9TyNHnws5MPVMc/7SYw9RBiuf",
      "include_colab_link": true
    },
    "kernelspec": {
      "name": "python3",
      "display_name": "Python 3"
    },
    "language_info": {
      "name": "python"
    }
  },
  "cells": [
    {
      "cell_type": "markdown",
      "metadata": {
        "id": "view-in-github",
        "colab_type": "text"
      },
      "source": [
        "<a href=\"https://colab.research.google.com/github/trong-khanh-1109/CS112.L21.KHCL/blob/main/Kh%C3%B3a_s%E1%BB%91.ipynb\" target=\"_parent\"><img src=\"https://colab.research.google.com/assets/colab-badge.svg\" alt=\"Open In Colab\"/></a>"
      ]
    },
    {
      "cell_type": "markdown",
      "metadata": {
        "id": "rBEMa7FfU1Cf"
      },
      "source": [
        "#TÊN ĐỀ BÀI: KHÓA SỐ"
      ]
    },
    {
      "cell_type": "markdown",
      "metadata": {
        "id": "qPUDde_NV2Mj"
      },
      "source": [
        "#Abstraction"
      ]
    },
    {
      "cell_type": "markdown",
      "metadata": {
        "id": "Gh54QsvUV7Cy"
      },
      "source": [
        "- Nhập 1 chuỗi kí tự số nguyên dương bất kì, thay đổi vị trí hoặc xoá các vị trí trong chuỗi để được chuỗi có giá lớn nhất và chia hết cho 3"
      ]
    },
    {
      "cell_type": "markdown",
      "metadata": {
        "id": "Je3wXmVaVG6y"
      },
      "source": [
        "#Pattern Recognition"
      ]
    },
    {
      "cell_type": "markdown",
      "metadata": {
        "id": "C6Ehz5EsVVSc"
      },
      "source": [
        "- Kĩ thuật áp dụng: Xử lí chuỗi, xử lí mảng\n",
        "- Đặc điểm nhận dạng: Thay đổi vị trí hoặc xoá các vị trí trong chuỗi để được chuỗi có giá lớn nhất và chia hết cho 3"
      ]
    },
    {
      "cell_type": "markdown",
      "metadata": {
        "id": "449-70UXW5rj"
      },
      "source": [
        "#Algorithm designed"
      ]
    },
    {
      "cell_type": "markdown",
      "metadata": {
        "id": "REnp7rtxW8CC"
      },
      "source": [
        "- Nhập một xâu ký tự số có độ dài lớn hơn 2\n",
        "- Chuyển từng kí tự của chuỗi thành số nguyên rồi đưa vào mảng\n",
        "- Sắp xếp mảng theo thứ tự giảm dần\n",
        "- Nếu tổng các phần tử của mảng không chia hết cho 3 thì:\n",
        "    - Tạo 1 mảng index rỗng\n",
        "    - Gián mod gán tổng các phần tử trong mảng chia lấy dư cho 3\n",
        "    - Chạy vòng lặp i chạy từ phần tử cuối mảng đến phần tử đầu mảng:\n",
        "          - Nếu phần tử thứ i chia lấy dư cho 3 bằng mod:\n",
        "              Xoá phần tử thứ i ra khỏi mảng\n",
        "              Sau đó thoát khỏi vòng lặp\n",
        "          - Nếu phần tử thứ i chia lấy dư cho 3 khác không:\n",
        "              Thêm giá trị i vào mảng index\n",
        "    - Cập nhập lại giá trị mod\n",
        "    - Nếu mod khác không thì:\n",
        "          - Xoá 2 phần tử có chỉ số index[0] và index[1] ra khỏi mảng\n",
        "- In mảng sau khi xử lí ra màn hình\n"
      ]
    },
    {
      "cell_type": "markdown",
      "metadata": {
        "id": "aDsf3nDOaj-C"
      },
      "source": [
        "#Độ phức tạp thuật toán\n",
        "\n"
      ]
    },
    {
      "cell_type": "markdown",
      "metadata": {
        "id": "ANOgeuW1aqOs"
      },
      "source": [
        "* O(n) với n là độ dài của chuỗi nhập và"
      ]
    },
    {
      "cell_type": "markdown",
      "metadata": {
        "id": "P3FEvD9Ia3JN"
      },
      "source": [
        "#Code"
      ]
    },
    {
      "cell_type": "code",
      "metadata": {
        "id": "AVNZc-rta6x8"
      },
      "source": [
        "# Code by Do Trong Khanh\n",
        "n = list(map(int, list(input().strip())))\n",
        "n.sort(reverse = True)\n",
        "mod = sum(n) % 3\n",
        "if mod != 0:\n",
        "\tindex = []\n",
        "\tfor i in range(len(n)-1, -1, -1):\n",
        "\t\tif n[i] % 3 == mod:\n",
        "\t\t\tn.pop(i)\n",
        "\t\t\tbreak\n",
        "\t\tif n[i] % 3 != 0:\n",
        "\t\t\tindex.append(i)\n",
        "\tmod = sum(n) % 3\n",
        "\tif mod != 0:\n",
        "\t\tn.pop(index[0])\n",
        "\t\tn.pop(index[1])\n",
        "n = [str(i) for i in n]\n",
        "print(''.join(n))"
      ],
      "execution_count": null,
      "outputs": []
    }
  ]
}