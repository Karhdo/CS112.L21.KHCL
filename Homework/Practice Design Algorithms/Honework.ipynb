{
  "nbformat": 4,
  "nbformat_minor": 0,
  "metadata": {
    "colab": {
      "name": "\bHonework.ipynb",
      "provenance": [],
      "collapsed_sections": []
    },
    "kernelspec": {
      "name": "python3",
      "display_name": "Python 3"
    },
    "language_info": {
      "name": "python"
    }
  },
  "cells": [
    {
      "cell_type": "markdown",
      "metadata": {
        "id": "QCsCvKr_vprD"
      },
      "source": [
        "#TÊN ĐỀ BÀI: ĐỐN CÂY"
      ]
    },
    {
      "cell_type": "markdown",
      "metadata": {
        "id": "m0e7BRXyvupV"
      },
      "source": [
        "Hùng đang làm việc trong Công ty cao su X. Công ty có rừng cao su rất rộng, với những hàng cây cao su trồng cách đều thẳng tắp. Theo định kỳ, người ta thường phải chặt hạ cả hàng cây cao su đã hết hạn khai thác để trồng thay thế bằng hàng cây mới. Hùng phát hiện ra một bài toán tin học liên quan đến vấn đề này: Một nhóm công nhân được giao nhiệm vụ chặt hạ hàng cây gồm n cây được trồng dọc theo một đường thẳng với khoảng cách cố định giữa hai cây liên tiếp. Nếu các công nhân cưa đổ một cây, họ có thể cho nó đổ về phía bên trái hoặc bên phải dọc theo hàng cây. Một cây khi đổ có thể lật đổ cây khác bị nó rơi vào và có thể làm đổ nhiều cây khác, theo hiệu ứng lan truyền domino. Sau khi khảo sát kỹ, Hùng đã mô tả được hiệu ứng lan truyền domino như sau: Giả sử các cây trên hàng cây được đánh số từ 1 đến n, từ trái qua phải và chiều cao của cây i là ℎ_𝑖 (1≤𝑖≤𝑛)\n",
        "\n",
        "- Nếu cây i đổ về bên trái thì tất cả các cây j với 𝑖−ℎ_𝑖<𝑗<𝑖 cũng sẽ đổ;\n",
        "- Nếu cây i đổ về bên phải thì tất cả các cây j với 𝑖<𝑗<𝑖+ ℎ_𝑗 cũng sẽ đổ;\n",
        "- Mỗi cây chỉ đổ một lần về bên trái hoặc bên phải.\n",
        "\n",
        "    => Do đó bài toán đặt ra đối với Hùng là: Xác định số lượng nhỏ nhất các cây mà các công nhân cần cưa đổ đảm bảo hạ đổ toàn bộ hàng cây.\n"
      ]
    },
    {
      "cell_type": "markdown",
      "metadata": {
        "id": "yIXMlV4DwKHY"
      },
      "source": [
        "- Yêu cầu: Giúp Hùng giải quyết bài toán đặt ra.\n",
        "- Input\n",
        "  - Dòng đầu tiên ghi số nguyên dương 𝑛;\n",
        "  - Dòng thứ hai chứa n số nguyên dương ℎ_1,ℎ_2, …,ℎ_𝑛 được ghi cách nhau bởi dấu cách, mỗi số không vượt quá 10^6.\n",
        "- Output\n",
        "  - Dòng đầu tiên ghi số nguyên dương 𝑘 là số lượng cây mà các công nhân cần cưa đổ;\n",
        "  - Dòng thứ hai ghi dãy số nguyên 𝑐_1,𝑐_2, …,𝑐_𝑘  trong đó |𝑐_𝑗 |  (1≤𝑗≤𝑘)  là dãy chỉ số của các cây theo thứ tự các công nhân phải lần lượt cưa đổ, 𝑐_𝑗 là số dương nếu cây cần cho đổ về bên phải và là số âm nếu cây cần cho đổ về bên trái.\n",
        "Nếu có nhiều cách thì chỉ cần đưa ra một cách tùy ý.\n",
        "\n",
        "| Input    | Output  |\n",
        "| -------- |:-------:|\n",
        "|5         |2        |\n",
        "|1 2 3 1 1 |3 -2     |\n"
      ]
    },
    {
      "cell_type": "markdown",
      "metadata": {
        "id": "GiN7gWBqxlX8"
      },
      "source": [
        "#Abstraction\n"
      ]
    },
    {
      "cell_type": "markdown",
      "metadata": {
        "id": "PXoNKvMWyQFb"
      },
      "source": [
        "- Xác định số lượng nhỏ nhất các cây mà các công nhân cần cưa đổ đảm bảo hạ đổ toàn bộ hàng cây.\n",
        "- Do đó bài toán quy về: Tìm kiếm tuyến tính"
      ]
    },
    {
      "cell_type": "markdown",
      "metadata": {
        "id": "FtNKvDrRyTgG"
      },
      "source": [
        "#Pattern Recognition"
      ]
    },
    {
      "cell_type": "markdown",
      "metadata": {
        "id": "oXqoMDOyyYT8"
      },
      "source": [
        "- Quy hoạch động\n",
        "- Kĩ thuật được áp dụng: Tìm kiếm tuyến tính và xử lý mảng"
      ]
    },
    {
      "cell_type": "markdown",
      "metadata": {
        "id": "i1COg1nnyjaR"
      },
      "source": [
        "#Algorithm designed"
      ]
    },
    {
      "cell_type": "markdown",
      "metadata": {
        "id": "R45nhOD7yoex"
      },
      "source": [
        "- Bước 1: Chuẩn bị\n",
        "  - Ta sẽ xây dựng hai mảng L[] và R[], trong đó L[i] là vị trí j nhỏ nhất mà bị cây i làm đổ nếu đẩy về bên trái, tương tự với R.\n",
        "\"L[i]=min[i,min(L[j]) với i−h[i] < j < i] \"\n",
        "  - Để tính L[] ta duy trì một stack chứa các chỉ số tăng dần. Trước khi thêm một cây i mới vào, các cây bị nó trực tiếp làm đổ sẽ bị pop ra, đồng thời ta cập nhật L[i].\n",
        "\n",
        "- Bước 2: Quy hoạch động\n",
        "  - Gọi F(i) là số cây cần phải đổ nhỏ nhất để các cây có chỉ số 1 … i đều đổ.\n",
        "  - Để tính F(i) cần xét 2 trường hợp:\n",
        "      - Nếu ta đẩy cây i qua trái: F(i)=min[F(j−1)+1] với L[i] ≤ j ≤ i (1)\n",
        "      - Nếu cây i bị đẩy qua phải bởi cây j F(i)=min[F(j−1)+1] với 1≤ j ≤ i và R[j] ≥ i (2)\n",
        "  - Có thể dễ dàng tính các F[] trong O(N2). Có thể dùng các cấu trúc dữ liệu quản lí đoạn để giảm xuống O(NlogN).\n",
        "  - Ta có thể sử dụng stack để giảm độ phức tạp xuống O(N).\n",
        "\n",
        "- Bước 3: Xử lý\n",
        "        F(i)=min[F(j−1)+1] với L[i] ≤ j ≤ i \t\t\t\t(1)\n",
        "  - Để xử lí (1), ta cài đặt được ngắn gọn như thế này:\n",
        "        𝐹[𝐿[𝑖]−1]=min⁡[𝐹(𝑗−1)+1] với 𝐿[𝑖]≤𝑗≤𝑖\n",
        "\n",
        "        F(i)=min[F(j−1)+1] với 1≤ j ≤ i và R[j] ≥ i \t\t\t(2)\n",
        "  - Để xử lí (2) ta sẽ sử dụng một stack để lưu các vị trí có R[] giảm dần, đồng thời luôn duy trì sao cho giá trị ở top của stack luôn là tốt nhất. Chú ý là với 𝑗<𝑖 và 𝑅[𝑗]≥𝑖 thì 𝑅[𝑗]≥𝑅[𝑖]. Như vậy nếu tại mỗi bước ta pop các vị trí j có 𝑹[𝒋]<𝒊 ra khỏi stack, thì sẽ luôn duy trì được tính chất của stack vì lúc này đảm bảo được R[i] là nhỏ hơn các R[] đang ở trong stack, đồng thời nếu F(i−1) không tốt bằng giá trị ở đầu stack thì ta sẽ không đẩy i vào (để đảm bảo giá trị ở top luôn là tốt nhất).\n",
        "\n",
        "\n"
      ]
    },
    {
      "cell_type": "markdown",
      "metadata": {
        "id": "5TqmeG_R0w5z"
      },
      "source": [
        "#Độ phức tạp thuật toán"
      ]
    },
    {
      "cell_type": "markdown",
      "metadata": {
        "id": "IYSDlAcP0yCl"
      },
      "source": [
        "- O(N)\n",
        "- Với N là số lượng cây ( kích thước của mảng )"
      ]
    },
    {
      "cell_type": "markdown",
      "metadata": {
        "id": "wal7SCm6zuSm"
      },
      "source": [
        "#Code"
      ]
    },
    {
      "cell_type": "code",
      "metadata": {
        "id": "boRcOHLkztsq"
      },
      "source": [
        "#Code by Trinh Tuan Nam\n",
        "from collections import deque\n",
        "\n",
        "a = []\n",
        "L = []\n",
        "R = []\n",
        "dp = []\n",
        "trace = []\n",
        "\n",
        "n = int(input())\n",
        "a = [int(x) for x in input().split()]\n",
        "a = [0] + a\n",
        "L = [i for i in range(n+1)]\n",
        "R = [i for i in range(n+1)]\n",
        "dp = [i for i in range(n+1)]\n",
        "trace = [-i for i in range(n+1)]\n",
        "S = deque()\n",
        "\n",
        "for i in range(1, n+1):\n",
        "\tL[i] = i\n",
        "\twhile len(S) > 0 and S[-1] > i - a[i]:\n",
        "\t\tL[i] = min(L[i], L[S[-1]])\n",
        "\t\tS.pop()\n",
        "\tS.append(i)\n",
        "S.clear()\n",
        "\n",
        "for i in range(n, 0, -1):\n",
        "\tR[i] = i\n",
        "\twhile len(S) > 0 and S[-1] < i + a[i]:\n",
        "\t\tR[i] = max(R[i], R[S[-1]])\n",
        "\t\tS.pop()\n",
        "\tS.append(i)\n",
        "S.clear()\n",
        "\n",
        "for i in range(1, n+1):\n",
        "\tif dp[i] > dp[L[i] - 1] + 1:\n",
        "\t\tdp[i] = dp[L[i] - 1] + 1\n",
        "\t\ttrace[i] = -L[i]\n",
        "\n",
        "\twhile len(S) > 0 and R[S[-1]] < i:\n",
        "\t\tS.pop()\n",
        "\n",
        "\tif len(S) > 0 and dp[i] > dp[S[-1] - 1] + 1:\n",
        "\t\tdp[i] = dp[S[-1] - 1] + 1\n",
        "\t\ttrace[i] = S[-1]\n",
        "\n",
        "\tif len(S) == 0 or dp[S[-1] -1] > dp[i-1]:\n",
        "\t\tS.append(i)\n",
        "\n",
        "print(dp[n])\n",
        "i = n\n",
        "while i > 0:\n",
        "\tif trace[i] < 0:\n",
        "\t\tprint(-i, end=' ')\n",
        "\telse:\n",
        "\t\tprint(trace[i], end=' ')\n",
        "\ti = abs(trace[i]) - 1"
      ],
      "execution_count": null,
      "outputs": []
    }
  ]
}